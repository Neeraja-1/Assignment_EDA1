{
 "cells": [
  {
   "cell_type": "markdown",
   "id": "6baf2c3f",
   "metadata": {},
   "source": [
    "# Exercise 1: Prime Numbers"
   ]
  },
  {
   "cell_type": "code",
   "execution_count": 44,
   "id": "f30399f4",
   "metadata": {},
   "outputs": [
    {
     "name": "stdout",
     "output_type": "stream",
     "text": [
      "Enter the input number :010\n"
     ]
    }
   ],
   "source": [
    "x = int(input(\"Enter the input number :\"))"
   ]
  },
  {
   "cell_type": "code",
   "execution_count": 45,
   "id": "0b13da9e",
   "metadata": {},
   "outputs": [
    {
     "name": "stdout",
     "output_type": "stream",
     "text": [
      "10  is not a Prime Number\n"
     ]
    }
   ],
   "source": [
    "count = 0\n",
    "for n in range(x):\n",
    "    n=n+1\n",
    "    if x%n == 0:\n",
    "        count+=1\n",
    "        if count > 2:\n",
    "            break;\n",
    "    else:\n",
    "        continue;\n",
    "if count > 2:\n",
    "    print(x,\" is not a Prime Number\")\n",
    "else:\n",
    "    print(x,\" is a Prime Number\")"
   ]
  },
  {
   "cell_type": "markdown",
   "id": "a1145809",
   "metadata": {},
   "source": [
    "# Exercise 2: Product of Random Numbers"
   ]
  },
  {
   "cell_type": "code",
   "execution_count": 63,
   "id": "4da7c89d",
   "metadata": {},
   "outputs": [],
   "source": [
    "import random\n",
    "import numpy as np"
   ]
  },
  {
   "cell_type": "code",
   "execution_count": 64,
   "id": "0290feaa",
   "metadata": {},
   "outputs": [],
   "source": [
    "num1 = np.random.randint(0,100)"
   ]
  },
  {
   "cell_type": "code",
   "execution_count": 65,
   "id": "1e87eb91",
   "metadata": {},
   "outputs": [],
   "source": [
    "num2 = np.random.randint(0,100)"
   ]
  },
  {
   "cell_type": "code",
   "execution_count": 66,
   "id": "0a8f7f6a",
   "metadata": {},
   "outputs": [
    {
     "name": "stdout",
     "output_type": "stream",
     "text": [
      "The two number are : 32  and  51\n"
     ]
    }
   ],
   "source": [
    "print(\"The two number are :\",num1,\" and \",num2)"
   ]
  },
  {
   "cell_type": "code",
   "execution_count": 67,
   "id": "ea5b936f",
   "metadata": {},
   "outputs": [
    {
     "data": {
      "text/plain": [
       "int"
      ]
     },
     "execution_count": 67,
     "metadata": {},
     "output_type": "execute_result"
    }
   ],
   "source": [
    "type(num1)"
   ]
  },
  {
   "cell_type": "code",
   "execution_count": 68,
   "id": "f0293758",
   "metadata": {},
   "outputs": [],
   "source": [
    "x=num1*num2"
   ]
  },
  {
   "cell_type": "code",
   "execution_count": 70,
   "id": "84706d98",
   "metadata": {},
   "outputs": [
    {
     "name": "stdout",
     "output_type": "stream",
     "text": [
      "Enter the product of 32 and 51: 53\n"
     ]
    }
   ],
   "source": [
    "k = int(input(\"Enter the product of {} and {}: \".format(num1, num2)))\n",
    "if k==x:\n",
    "    print(\"The user calculation is correct\")\n",
    "else:\n",
    "    print(\"The calculation is incorrect\")"
   ]
  },
  {
   "cell_type": "markdown",
   "id": "ddb2413e",
   "metadata": {},
   "source": [
    "# Exercise 3: Squares of Even/Odd Numbers"
   ]
  },
  {
   "cell_type": "code",
   "execution_count": 78,
   "id": "6320f89b",
   "metadata": {},
   "outputs": [
    {
     "name": "stdout",
     "output_type": "stream",
     "text": [
      "10000\n",
      "10404\n",
      "10816\n",
      "11236\n",
      "11664\n",
      "12100\n",
      "12544\n",
      "12996\n",
      "13456\n",
      "13924\n",
      "14400\n",
      "14884\n",
      "15376\n",
      "15876\n",
      "16384\n",
      "16900\n",
      "17424\n",
      "17956\n",
      "18496\n",
      "19044\n",
      "19600\n",
      "20164\n",
      "20736\n",
      "21316\n",
      "21904\n",
      "22500\n",
      "23104\n",
      "23716\n",
      "24336\n",
      "24964\n",
      "25600\n",
      "26244\n",
      "26896\n",
      "27556\n",
      "28224\n",
      "28900\n",
      "29584\n",
      "30276\n",
      "30976\n",
      "31684\n",
      "32400\n",
      "33124\n",
      "33856\n",
      "34596\n",
      "35344\n",
      "36100\n",
      "36864\n",
      "37636\n",
      "38416\n",
      "39204\n"
     ]
    }
   ],
   "source": [
    "#Sqaure of EVEN numbers : \n",
    "for x in range(100,200):\n",
    "    if (x%2 == 0):\n",
    "        n = x*x\n",
    "        print(n)\n",
    "    "
   ]
  },
  {
   "cell_type": "markdown",
   "id": "09f73899",
   "metadata": {},
   "source": [
    "# Exercise 4: Word counter"
   ]
  },
  {
   "cell_type": "code",
   "execution_count": 79,
   "id": "0ecf5b26",
   "metadata": {},
   "outputs": [
    {
     "name": "stdout",
     "output_type": "stream",
     "text": [
      "'this': 2\n",
      "'is': 1\n",
      "'a': 1\n",
      "'sample': 1\n",
      "'text': 2\n",
      "'will': 1\n",
      "'be': 1\n",
      "'used': 1\n",
      "'to': 1\n",
      "'demonstrate': 1\n",
      "'the': 1\n",
      "'word': 1\n",
      "'counter': 1\n"
     ]
    }
   ],
   "source": [
    "import string\n",
    "from collections import Counter\n",
    "\n",
    "def count_words(text):\n",
    "    # Convert the text to lowercase\n",
    "    text = text.lower()\n",
    "    \n",
    "    # Remove punctuation (except for the period to keep it separate as 'text.')\n",
    "    text = text.translate(str.maketrans('', '', string.punctuation))\n",
    "    \n",
    "    # Split the text into words\n",
    "    words = text.split()\n",
    "    \n",
    "    # Count occurrences of each word\n",
    "    word_counts = Counter(words)\n",
    "    \n",
    "    # Print the results\n",
    "    for word, count in word_counts.items():\n",
    "        print(f\"'{word}': {count}\")\n",
    "\n",
    "# Example usage\n",
    "input_text = \"This is a sample text. This text will be used to demonstrate the word counter.\"\n",
    "count_words(input_text)\n"
   ]
  },
  {
   "cell_type": "markdown",
   "id": "5dec062e",
   "metadata": {},
   "source": [
    "# Exercise 5: Check for Palindrome"
   ]
  },
  {
   "cell_type": "code",
   "execution_count": 93,
   "id": "352dcfa7",
   "metadata": {},
   "outputs": [
    {
     "name": "stdout",
     "output_type": "stream",
     "text": [
      "Enter a string to check if it is a palindrome: racecar\n",
      "The string is a palindrome.\n"
     ]
    }
   ],
   "source": [
    "\n",
    "def is_palindrome(s):\n",
    "    # Convert the string to lowercase\n",
    "    s = s.lower()\n",
    "    \n",
    "    # Check if the string is equal to its reverse\n",
    "    return s == s[::-1]\n",
    "\n",
    "def main():\n",
    "    # Prompt the user for input\n",
    "    user_input = input(\"Enter a string to check if it is a palindrome: \")\n",
    "    \n",
    "    # Check if the input string is a palindrome\n",
    "    if is_palindrome(user_input):\n",
    "        print(\"The string is a palindrome.\")\n",
    "    else:\n",
    "        print(\"The string is not a palindrome.\")\n",
    "\n",
    "# Run the main function\n",
    "if __name__ == \"__main__\":\n",
    "    main()\n"
   ]
  },
  {
   "cell_type": "code",
   "execution_count": null,
   "id": "6cc7e73e",
   "metadata": {},
   "outputs": [],
   "source": []
  }
 ],
 "metadata": {
  "kernelspec": {
   "display_name": "Python 3 (ipykernel)",
   "language": "python",
   "name": "python3"
  },
  "language_info": {
   "codemirror_mode": {
    "name": "ipython",
    "version": 3
   },
   "file_extension": ".py",
   "mimetype": "text/x-python",
   "name": "python",
   "nbconvert_exporter": "python",
   "pygments_lexer": "ipython3",
   "version": "3.9.16"
  }
 },
 "nbformat": 4,
 "nbformat_minor": 5
}
