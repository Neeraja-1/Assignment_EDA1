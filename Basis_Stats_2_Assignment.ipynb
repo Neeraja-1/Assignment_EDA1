{
 "cells": [
  {
   "attachments": {},
   "cell_type": "markdown",
   "id": "c3a772ed",
   "metadata": {},
   "source": [
    "# Calculations: \n"
   ]
  },
  {
   "cell_type": "code",
   "execution_count": 31,
   "id": "49f11e2f",
   "metadata": {},
   "outputs": [],
   "source": [
    "import numpy as np"
   ]
  },
  {
   "cell_type": "code",
   "execution_count": 2,
   "id": "e187ab86",
   "metadata": {},
   "outputs": [],
   "source": [
    "ls=[1.13, 1.55, 1.43, 0.92, 1.25, 1.36, 1.32, 0.85, 1.07, 1.48, 1.20, 1.33, 1.18, 1.22, 1.29] # sample data"
   ]
  },
  {
   "cell_type": "code",
   "execution_count": 39,
   "id": "f09e2e36",
   "metadata": {},
   "outputs": [],
   "source": [
    "sm = round(np.mean(ls),2) #Step-1: Sample MEAN"
   ]
  },
  {
   "cell_type": "code",
   "execution_count": 40,
   "id": "4646102c",
   "metadata": {},
   "outputs": [
    {
     "data": {
      "text/plain": [
       "1.24"
      ]
     },
     "execution_count": 40,
     "metadata": {},
     "output_type": "execute_result"
    }
   ],
   "source": [
    "sm"
   ]
  },
  {
   "cell_type": "code",
   "execution_count": 28,
   "id": "5e1b79db",
   "metadata": {},
   "outputs": [],
   "source": [
    "sd = round(np.std(ls),2) #Step-2: Sample Standard deviation"
   ]
  },
  {
   "cell_type": "code",
   "execution_count": 29,
   "id": "8b4fccc1",
   "metadata": {},
   "outputs": [
    {
     "data": {
      "text/plain": [
       "0.19"
      ]
     },
     "execution_count": 29,
     "metadata": {},
     "output_type": "execute_result"
    }
   ],
   "source": [
    "sd"
   ]
  },
  {
   "cell_type": "code",
   "execution_count": 37,
   "id": "744075d4",
   "metadata": {},
   "outputs": [],
   "source": [
    "sem = round(sd/(np.sqrt(15)),2) #Step-4: Standard Error of the Mean (SEM):"
   ]
  },
  {
   "cell_type": "code",
   "execution_count": 38,
   "id": "b7f42079",
   "metadata": {},
   "outputs": [
    {
     "data": {
      "text/plain": [
       "0.05"
      ]
     },
     "execution_count": 38,
     "metadata": {},
     "output_type": "execute_result"
    }
   ],
   "source": [
    "sem"
   ]
  },
  {
   "cell_type": "code",
   "execution_count": 43,
   "id": "4b62e4a2",
   "metadata": {},
   "outputs": [],
   "source": [
    "ci1 = sm +(2.977*sem)"
   ]
  },
  {
   "cell_type": "code",
   "execution_count": 44,
   "id": "52685f84",
   "metadata": {},
   "outputs": [
    {
     "data": {
      "text/plain": [
       "1.38885"
      ]
     },
     "execution_count": 44,
     "metadata": {},
     "output_type": "execute_result"
    }
   ],
   "source": [
    "ci1"
   ]
  },
  {
   "cell_type": "code",
   "execution_count": 45,
   "id": "2061b830",
   "metadata": {},
   "outputs": [],
   "source": [
    "ci2 = sm -(2.977*sem)"
   ]
  },
  {
   "cell_type": "code",
   "execution_count": 46,
   "id": "94001258",
   "metadata": {},
   "outputs": [
    {
     "data": {
      "text/plain": [
       "1.09115"
      ]
     },
     "execution_count": 46,
     "metadata": {},
     "output_type": "execute_result"
    }
   ],
   "source": [
    "ci2"
   ]
  },
  {
   "cell_type": "code",
   "execution_count": 47,
   "id": "56005e73",
   "metadata": {},
   "outputs": [],
   "source": [
    "ci3 = sm +(2.576*sem) # Problem-2 confidence interval"
   ]
  },
  {
   "cell_type": "code",
   "execution_count": 48,
   "id": "5c66beef",
   "metadata": {},
   "outputs": [
    {
     "data": {
      "text/plain": [
       "1.3688"
      ]
     },
     "execution_count": 48,
     "metadata": {},
     "output_type": "execute_result"
    }
   ],
   "source": [
    "ci3"
   ]
  },
  {
   "cell_type": "code",
   "execution_count": 49,
   "id": "54061f61",
   "metadata": {},
   "outputs": [],
   "source": [
    "ci4 = sm-(2.576*sem) # confidence interval"
   ]
  },
  {
   "cell_type": "code",
   "execution_count": 50,
   "id": "cb17cd56",
   "metadata": {},
   "outputs": [
    {
     "data": {
      "text/plain": [
       "1.1112"
      ]
     },
     "execution_count": 50,
     "metadata": {},
     "output_type": "execute_result"
    }
   ],
   "source": [
    "ci4"
   ]
  }
 ],
 "metadata": {
  "kernelspec": {
   "display_name": "Python 3 (ipykernel)",
   "language": "python",
   "name": "python3"
  },
  "language_info": {
   "codemirror_mode": {
    "name": "ipython",
    "version": 3
   },
   "file_extension": ".py",
   "mimetype": "text/x-python",
   "name": "python",
   "nbconvert_exporter": "python",
   "pygments_lexer": "ipython3",
   "version": "3.9.16"
  }
 },
 "nbformat": 4,
 "nbformat_minor": 5
}
